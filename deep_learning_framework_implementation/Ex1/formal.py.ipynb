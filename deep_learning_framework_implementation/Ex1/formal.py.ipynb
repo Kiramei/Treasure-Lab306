{
 "cells": [
  {
   "cell_type": "markdown",
   "source": [
    "## 0.1 处理绘图中会出现的异常"
   ],
   "metadata": {
    "collapsed": false
   },
   "id": "cd59a9cf4f0eead2"
  },
  {
   "cell_type": "code",
   "outputs": [
    {
     "data": {
      "text/plain": "'\\nCreated on Thu Sep 15 14:18:27 2022\\n@author: Kiramei\\n'"
     },
     "execution_count": 18,
     "metadata": {},
     "output_type": "execute_result"
    }
   ],
   "source": [
    "import os\n",
    "\n",
    "os.environ[\"KMP_DUPLICATE_LIB_OK\"] = \"TRUE\"\n",
    "# -*- coding: utf-8 -*-\n",
    "\"\"\"\n",
    "Created on Thu Sep 15 14:18:27 2022\n",
    "@author: Kiramei\n",
    "\"\"\""
   ],
   "metadata": {
    "collapsed": false,
    "ExecuteTime": {
     "end_time": "2024-05-03T10:03:56.944915300Z",
     "start_time": "2024-05-03T10:03:56.933917Z"
    }
   },
   "id": "2f239da883bef564",
   "execution_count": 18
  },
  {
   "cell_type": "markdown",
   "source": [
    "## 1.1 导入相关数据以及库文件\n",
    "1、 库文件包括numpy、pandas、matplotlib、torch等\n",
    "2、 数据包括训练数据和测试数据"
   ],
   "metadata": {
    "collapsed": false
   },
   "id": "e850d1ce92b0137b"
  },
  {
   "cell_type": "code",
   "outputs": [],
   "source": [
    "import numpy as np\n",
    "import pandas as pd\n",
    "import torch\n",
    "from torch import nn\n",
    "from matplotlib import pyplot as plt"
   ],
   "metadata": {
    "collapsed": false,
    "ExecuteTime": {
     "end_time": "2024-05-03T10:03:56.959220500Z",
     "start_time": "2024-05-03T10:03:56.946917Z"
    }
   },
   "id": "ef0cddbb3108f355",
   "execution_count": 19
  },
  {
   "cell_type": "code",
   "outputs": [
    {
     "name": "stdout",
     "output_type": "stream",
     "text": [
      "训练数据大小： (1460, 81)\n",
      "测试数据大小： (1459, 80)\n",
      "部分训练特征：\n",
      "   Id  MSSubClass MSZoning  LotFrontage SaleType SaleCondition  SalePrice\n",
      "0   1          60       RL         65.0       WD        Normal     208500\n",
      "1   2          20       RL         80.0       WD        Normal     181500\n",
      "2   3          60       RL         68.0       WD        Normal     223500\n",
      "3   4          70       RL         60.0       WD       Abnorml     140000\n",
      "训练数据构型：\n",
      "<class 'pandas.core.frame.DataFrame'>\n",
      "RangeIndex: 1460 entries, 0 to 1459\n",
      "Data columns (total 81 columns):\n",
      " #   Column         Non-Null Count  Dtype  \n",
      "---  ------         --------------  -----  \n",
      " 0   Id             1460 non-null   int64  \n",
      " 1   MSSubClass     1460 non-null   int64  \n",
      " 2   MSZoning       1460 non-null   object \n",
      " 3   LotFrontage    1201 non-null   float64\n",
      " 4   LotArea        1460 non-null   int64  \n",
      " 5   Street         1460 non-null   object \n",
      " 6   Alley          91 non-null     object \n",
      " 7   LotShape       1460 non-null   object \n",
      " 8   LandContour    1460 non-null   object \n",
      " 9   Utilities      1460 non-null   object \n",
      " 10  LotConfig      1460 non-null   object \n",
      " 11  LandSlope      1460 non-null   object \n",
      " 12  Neighborhood   1460 non-null   object \n",
      " 13  Condition1     1460 non-null   object \n",
      " 14  Condition2     1460 non-null   object \n",
      " 15  BldgType       1460 non-null   object \n",
      " 16  HouseStyle     1460 non-null   object \n",
      " 17  OverallQual    1460 non-null   int64  \n",
      " 18  OverallCond    1460 non-null   int64  \n",
      " 19  YearBuilt      1460 non-null   int64  \n",
      " 20  YearRemodAdd   1460 non-null   int64  \n",
      " 21  RoofStyle      1460 non-null   object \n",
      " 22  RoofMatl       1460 non-null   object \n",
      " 23  Exterior1st    1460 non-null   object \n",
      " 24  Exterior2nd    1460 non-null   object \n",
      " 25  MasVnrType     588 non-null    object \n",
      " 26  MasVnrArea     1452 non-null   float64\n",
      " 27  ExterQual      1460 non-null   object \n",
      " 28  ExterCond      1460 non-null   object \n",
      " 29  Foundation     1460 non-null   object \n",
      " 30  BsmtQual       1423 non-null   object \n",
      " 31  BsmtCond       1423 non-null   object \n",
      " 32  BsmtExposure   1422 non-null   object \n",
      " 33  BsmtFinType1   1423 non-null   object \n",
      " 34  BsmtFinSF1     1460 non-null   int64  \n",
      " 35  BsmtFinType2   1422 non-null   object \n",
      " 36  BsmtFinSF2     1460 non-null   int64  \n",
      " 37  BsmtUnfSF      1460 non-null   int64  \n",
      " 38  TotalBsmtSF    1460 non-null   int64  \n",
      " 39  Heating        1460 non-null   object \n",
      " 40  HeatingQC      1460 non-null   object \n",
      " 41  CentralAir     1460 non-null   object \n",
      " 42  Electrical     1459 non-null   object \n",
      " 43  1stFlrSF       1460 non-null   int64  \n",
      " 44  2ndFlrSF       1460 non-null   int64  \n",
      " 45  LowQualFinSF   1460 non-null   int64  \n",
      " 46  GrLivArea      1460 non-null   int64  \n",
      " 47  BsmtFullBath   1460 non-null   int64  \n",
      " 48  BsmtHalfBath   1460 non-null   int64  \n",
      " 49  FullBath       1460 non-null   int64  \n",
      " 50  HalfBath       1460 non-null   int64  \n",
      " 51  BedroomAbvGr   1460 non-null   int64  \n",
      " 52  KitchenAbvGr   1460 non-null   int64  \n",
      " 53  KitchenQual    1460 non-null   object \n",
      " 54  TotRmsAbvGrd   1460 non-null   int64  \n",
      " 55  Functional     1460 non-null   object \n",
      " 56  Fireplaces     1460 non-null   int64  \n",
      " 57  FireplaceQu    770 non-null    object \n",
      " 58  GarageType     1379 non-null   object \n",
      " 59  GarageYrBlt    1379 non-null   float64\n",
      " 60  GarageFinish   1379 non-null   object \n",
      " 61  GarageCars     1460 non-null   int64  \n",
      " 62  GarageArea     1460 non-null   int64  \n",
      " 63  GarageQual     1379 non-null   object \n",
      " 64  GarageCond     1379 non-null   object \n",
      " 65  PavedDrive     1460 non-null   object \n",
      " 66  WoodDeckSF     1460 non-null   int64  \n",
      " 67  OpenPorchSF    1460 non-null   int64  \n",
      " 68  EnclosedPorch  1460 non-null   int64  \n",
      " 69  3SsnPorch      1460 non-null   int64  \n",
      " 70  ScreenPorch    1460 non-null   int64  \n",
      " 71  PoolArea       1460 non-null   int64  \n",
      " 72  PoolQC         7 non-null      object \n",
      " 73  Fence          281 non-null    object \n",
      " 74  MiscFeature    54 non-null     object \n",
      " 75  MiscVal        1460 non-null   int64  \n",
      " 76  MoSold         1460 non-null   int64  \n",
      " 77  YrSold         1460 non-null   int64  \n",
      " 78  SaleType       1460 non-null   object \n",
      " 79  SaleCondition  1460 non-null   object \n",
      " 80  SalePrice      1460 non-null   int64  \n",
      "dtypes: float64(3), int64(35), object(43)\n",
      "memory usage: 924.0+ KB\n"
     ]
    }
   ],
   "source": [
    "train_data = pd.read_csv('train.csv')\n",
    "test_data = pd.read_csv('test.csv')\n",
    "\n",
    "# 展示数据形状\n",
    "print('训练数据大小：', train_data.shape)\n",
    "print('测试数据大小：', test_data.shape)\n",
    "\n",
    "# 展示部分特征\n",
    "print('部分训练特征：')\n",
    "print(train_data.iloc[0:4, [0, 1, 2, 3, -3, -2, -1]])\n",
    "\n",
    "# 数据构型 \n",
    "print('训练数据构型：')\n",
    "train_data.head()  ## getting first five rows\n",
    "train_data.tail()  ## getting last five rows\n",
    "train_data.info()  ## getting the information from the dataframe"
   ],
   "metadata": {
    "collapsed": false,
    "ExecuteTime": {
     "end_time": "2024-05-03T10:03:57.008734900Z",
     "start_time": "2024-05-03T10:03:56.962221Z"
    }
   },
   "id": "27ab299a0073912f",
   "execution_count": 20
  },
  {
   "cell_type": "markdown",
   "source": [
    "## 1.2 数据预处理\n",
    "从数据集中删除ID数据,将所有缺失的值替换为相应特征的平均值, 通过将特征重新缩放到零均值和单位方差来标准化数据。"
   ],
   "metadata": {
    "collapsed": false
   },
   "id": "6ae5452e475009db"
  },
  {
   "cell_type": "code",
   "outputs": [
    {
     "name": "stdout",
     "output_type": "stream",
     "text": [
      "特征空间大小为： (2919, 330)\n"
     ]
    }
   ],
   "source": [
    "# 数据预处理:从数据集中删除ID数据,将所有缺失的值替换为相应特征的平均值,\n",
    "#           通过将特征重新缩放到零均值和单位方差来标准化数据。\n",
    "all_features = pd.concat((train_data.iloc[:, 1:-1], test_data.iloc[:, 1:]))\n",
    "numeric_features = all_features.dtypes[all_features.dtypes != 'object'].index\n",
    "all_features[numeric_features] = all_features[numeric_features].apply(\n",
    "    lambda x: (x - x.mean()) / (x.std()))\n",
    "# 在标准化数据之后，将缺失值设置为0\n",
    "all_features[numeric_features] = all_features[numeric_features].fillna(0)\n",
    "\n",
    "# 类别特征转为数值标签，方法独热编码\n",
    "# `Dummy_na=True` 将“na”（缺失值）视为有效的特征值，并为其创建指示符特征。\n",
    "all_features = pd.get_dummies(all_features, dummy_na=True)\n",
    "print('特征空间大小为：', all_features.shape)"
   ],
   "metadata": {
    "collapsed": false,
    "ExecuteTime": {
     "end_time": "2024-05-03T10:03:57.061789400Z",
     "start_time": "2024-05-03T10:03:56.989735500Z"
    }
   },
   "id": "617b04c88c9d840d",
   "execution_count": 21
  },
  {
   "cell_type": "markdown",
   "source": [
    "## 2.1 构建神经网络"
   ],
   "metadata": {
    "collapsed": false
   },
   "id": "cbc08dd38808410c"
  },
  {
   "cell_type": "markdown",
   "source": [
    "### 2.1.1 定义网络结构"
   ],
   "metadata": {
    "collapsed": false
   },
   "id": "ccd6056169e488b6"
  },
  {
   "cell_type": "code",
   "outputs": [],
   "source": [
    "class HimenoNet(nn.Module):\n",
    "    def __init__(self, input_feature,\n",
    "                 output_feature=1,\n",
    "                 hidden_feature=512,\n",
    "                 softmax_out=False):\n",
    "        super(HimenoNet, self).__init__()\n",
    "\n",
    "        self.mlp = nn.Sequential(\n",
    "            nn.Linear(input_feature, hidden_feature),\n",
    "            nn.ReLU(),\n",
    "            nn.Linear(hidden_feature, hidden_feature),\n",
    "        )\n",
    "        \n",
    "        if softmax_out:\n",
    "            self.mlp.add_module('softmax', nn.Softmax(dim=1))\n",
    "        else:\n",
    "            self.mlp.add_module('relu', nn.ReLU())\n",
    "        self.mlp.add_module('output', nn.Linear(hidden_feature, output_feature))\n",
    "\n",
    "    def forward(self, x):\n",
    "        x = self.mlp(x)\n",
    "        return x"
   ],
   "metadata": {
    "collapsed": false,
    "ExecuteTime": {
     "end_time": "2024-05-03T10:03:57.061789400Z",
     "start_time": "2024-05-03T10:03:57.027808100Z"
    }
   },
   "id": "822aa0d72b30df69",
   "execution_count": 22
  },
  {
   "cell_type": "markdown",
   "source": [
    "### 2.1.2 定义损失函数"
   ],
   "metadata": {
    "collapsed": false
   },
   "id": "846c011abd866322"
  },
  {
   "cell_type": "code",
   "outputs": [],
   "source": [
    "def himeno_loss(y_pred, y_true):\n",
    "    return torch.mean((y_pred - y_true) ** 2)"
   ],
   "metadata": {
    "collapsed": false
   },
   "id": "e13f50a32e6787b2"
  }
 ],
 "metadata": {
  "kernelspec": {
   "display_name": "Python 3",
   "language": "python",
   "name": "python3"
  },
  "language_info": {
   "codemirror_mode": {
    "name": "ipython",
    "version": 2
   },
   "file_extension": ".py",
   "mimetype": "text/x-python",
   "name": "python",
   "nbconvert_exporter": "python",
   "pygments_lexer": "ipython2",
   "version": "2.7.6"
  }
 },
 "nbformat": 4,
 "nbformat_minor": 5
}
